{
 "cells": [
  {
   "cell_type": "code",
   "execution_count": 2,
   "metadata": {},
   "outputs": [
    {
     "name": "stderr",
     "output_type": "stream",
     "text": [
      "C:\\Users\\cytus\\Anaconda3\\lib\\site-packages\\fuzzywuzzy\\fuzz.py:11: UserWarning: Using slow pure-python SequenceMatcher. Install python-Levenshtein to remove this warning\n",
      "  warnings.warn('Using slow pure-python SequenceMatcher. Install python-Levenshtein to remove this warning')\n"
     ]
    }
   ],
   "source": [
    ">>> from fuzzywuzzy import fuzz\n",
    ">>> from fuzzywuzzy import process"
   ]
  },
  {
   "cell_type": "code",
   "execution_count": 3,
   "metadata": {},
   "outputs": [
    {
     "data": {
      "text/plain": [
       "[('pikachu', 100),\n",
       " ('detectivepikachu', 90),\n",
       " ('teampikachu', 90),\n",
       " ('teampikachu', 90),\n",
       " ('detectivepikachu', 90)]"
      ]
     },
     "execution_count": 3,
     "metadata": {},
     "output_type": "execute_result"
    }
   ],
   "source": [
    "choices = ['pokemonday',\n",
    "'detectivepikachu',\n",
    "'pokemonletsgo',\n",
    "'pokemontcg',\n",
    "'pokemonduel',\n",
    "'pokemontcg',\n",
    "'pokemongo',\n",
    "'pokemonholidaycheer',\n",
    "'pokemonletsgogogo',\n",
    "'playpokemon',\n",
    "'teampikachu',\n",
    "'pokemonvalentine',\n",
    "'pokemontheseries',\n",
    "'pokemonday',\n",
    "'pokemontheseries',\n",
    "'swordandshield',\n",
    "'eevee',\n",
    "'pokemoncenter',\n",
    "'pokemonswordshield',\n",
    "'pokemoncenter',\n",
    "'pokemonletsgo',\n",
    "'teampikachu',\n",
    "'pokemongo',\n",
    "'pokemonultrasunmoon',\n",
    "'pokemonsunmoon',\n",
    "'belegendary',\n",
    "'detectivepikachu',\n",
    "'teameevee',\n",
    "'pokemonswordshield',\n",
    "'mondaymotivation',\n",
    "'watchpokemon',\n",
    "'pokemonlivetweet',\n",
    "'firstdayofspring',\n",
    "'detectivepikachu',\n",
    "'pokkentournamentdx',\n",
    "'wednesdaywisdom',\n",
    "'gobattle',\n",
    "'pokemonresolutions',\n",
    "'pokemongo',\n",
    "'pokemonvg',\n",
    "'pokemonultrasunmoon',\n",
    "'detectivepikachumovie',\n",
    "'shiny',\n",
    "'mondaymotivation',\n",
    "'pokemonresolutions',\n",
    "'pokemongocommunityday',\n",
    "'pokemonthepowerofus',\n",
    "'tuesdaythoughts',\n",
    "'pokemondirect',\n",
    "'gosnapshot',\n",
    "'pokemonhalloween',\n",
    "'wednesdaywisdom',\n",
    "'nationalhatday',\n",
    "'teameevee',\n",
    "'smashbrosultimate',\n",
    "'pikachu',\n",
    "'happynewyear',\n",
    "'nationallazyday'\n",
    "]\n",
    "process.extract('pikachu', choices, limit=5)\n",
    "# Import all the hashtag we collected and to find the similarity of the word 'pikachu'."
   ]
  }
 ],
 "metadata": {
  "kernelspec": {
   "display_name": "Python 3",
   "language": "python",
   "name": "python3"
  },
  "language_info": {
   "codemirror_mode": {
    "name": "ipython",
    "version": 3
   },
   "file_extension": ".py",
   "mimetype": "text/x-python",
   "name": "python",
   "nbconvert_exporter": "python",
   "pygments_lexer": "ipython3",
   "version": "3.7.1"
  }
 },
 "nbformat": 4,
 "nbformat_minor": 2
}
